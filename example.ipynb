{
 "cells": [
  {
   "cell_type": "code",
   "execution_count": 1,
   "metadata": {
    "collapsed": true
   },
   "outputs": [],
   "source": [
    "import PIL\n",
    "from faceid import get_features_vec,get_distance_two_features_vec\n",
    "from deepface import DeepFace"
   ]
  },
  {
   "cell_type": "code",
   "execution_count": 2,
   "outputs": [
    {
     "name": "stdout",
     "output_type": "stream",
     "text": [
      "{'verified': True, 'distance': 0.2829609513282776, 'max_threshold_to_verify': 0.4, 'model': 'Facenet', 'similarity_metric': 'cosine'}\n"
     ]
    }
   ],
   "source": [
    "pair=[r'user\\database\\akbar\\G8xELWVcATs.jpg',r'user\\database\\akbar\\m9gbC85c7t8.jpg']\n",
    "res1=DeepFace.verify(str(pair[0]),str(pair[1]),model_name='Facenet')\n",
    "print(res1['distance'])"
   ],
   "metadata": {
    "collapsed": false,
    "pycharm": {
     "name": "#%%\n"
    }
   }
  },
  {
   "cell_type": "code",
   "execution_count": 3,
   "outputs": [
    {
     "name": "stdout",
     "output_type": "stream",
     "text": [
      "0.24778640270233154\n"
     ]
    }
   ],
   "source": [
    "imgs    = [ PIL.Image.open(str(i)) for i in pair ]\n",
    "vec1=get_features_vec(imgs[0])\n",
    "vec2=get_features_vec(imgs[1])\n",
    "res2=get_distance_two_features_vec(vec1,vec2,'cos')\n",
    "print(res2)"
   ],
   "metadata": {
    "collapsed": false,
    "pycharm": {
     "name": "#%%\n"
    }
   }
  },
  {
   "cell_type": "code",
   "execution_count": 4,
   "outputs": [
    {
     "name": "stdout",
     "output_type": "stream",
     "text": [
      "WARNING:tensorflow:5 out of the last 31 calls to <function Model.make_predict_function.<locals>.predict_function at 0x00000227B694E0D0> triggered tf.function retracing. Tracing is expensive and the excessive number of tracings could be due to (1) creating @tf.function repeatedly in a loop, (2) passing tensors with different shapes, (3) passing Python objects instead of tensors. For (1), please define your @tf.function outside of the loop. For (2), @tf.function has experimental_relax_shapes=True option that relaxes argument shapes that can avoid unnecessary retracing. For (3), please refer to https://www.tensorflow.org/guide/function#controlling_retracing and https://www.tensorflow.org/api_docs/python/tf/function for  more details.\n",
      "0.37634891271591187\n"
     ]
    }
   ],
   "source": [
    "pair=[r'user/database/andrey/1ZMgJIKBCFw.jpg',r'user/database/andrey/WIbGLB1k2zM.jpg']\n",
    "res1=DeepFace.verify(str(pair[0]),str(pair[1]),model_name='Facenet')\n",
    "print(res1['distance'])"
   ],
   "metadata": {
    "collapsed": false,
    "pycharm": {
     "name": "#%%\n"
    }
   }
  },
  {
   "cell_type": "code",
   "execution_count": 5,
   "outputs": [
    {
     "name": "stdout",
     "output_type": "stream",
     "text": [
      "0.3860316276550293\n"
     ]
    }
   ],
   "source": [
    "imgs    = [ PIL.Image.open(str(i)) for i in pair ]\n",
    "vec1=get_features_vec(imgs[0])\n",
    "vec2=get_features_vec(imgs[1])\n",
    "res2=get_distance_two_features_vec(vec1,vec2,'cos')\n",
    "print(res2)\n",
    "\n"
   ],
   "metadata": {
    "collapsed": false,
    "pycharm": {
     "name": "#%%\n"
    }
   }
  },
  {
   "cell_type": "code",
   "execution_count": 6,
   "outputs": [
    {
     "name": "stdout",
     "output_type": "stream",
     "text": [
      "WARNING:tensorflow:5 out of the last 34 calls to <function Model.make_predict_function.<locals>.predict_function at 0x00000227B9F4F8B0> triggered tf.function retracing. Tracing is expensive and the excessive number of tracings could be due to (1) creating @tf.function repeatedly in a loop, (2) passing tensors with different shapes, (3) passing Python objects instead of tensors. For (1), please define your @tf.function outside of the loop. For (2), @tf.function has experimental_relax_shapes=True option that relaxes argument shapes that can avoid unnecessary retracing. For (3), please refer to https://www.tensorflow.org/guide/function#controlling_retracing and https://www.tensorflow.org/api_docs/python/tf/function for  more details.\n",
      "0.7466270923614502\n"
     ]
    }
   ],
   "source": [
    "pair=[r'user/database/davron/514Wi6NXR9Y.jpg',r'user/database/bachter/oLZWPU_LsJI.jpg']\n",
    "res1=DeepFace.verify(str(pair[0]),str(pair[1]),model_name='Facenet')\n",
    "print(res1['distance'])"
   ],
   "metadata": {
    "collapsed": false,
    "pycharm": {
     "name": "#%%\n"
    }
   }
  },
  {
   "cell_type": "code",
   "execution_count": 7,
   "outputs": [
    {
     "name": "stdout",
     "output_type": "stream",
     "text": [
      "0.713973879814148\n"
     ]
    }
   ],
   "source": [
    "imgs    = [ PIL.Image.open(str(i)) for i in pair ]\n",
    "vec1=get_features_vec(imgs[0])\n",
    "vec2=get_features_vec(imgs[1])\n",
    "res2=get_distance_two_features_vec(vec1,vec2,'cos')\n",
    "print(res2)\n"
   ],
   "metadata": {
    "collapsed": false,
    "pycharm": {
     "name": "#%%\n"
    }
   }
  },
  {
   "cell_type": "code",
   "execution_count": null,
   "outputs": [],
   "source": [],
   "metadata": {
    "collapsed": false,
    "pycharm": {
     "name": "#%%\n"
    }
   }
  }
 ],
 "metadata": {
  "kernelspec": {
   "display_name": "Python 3",
   "language": "python",
   "name": "python3"
  },
  "language_info": {
   "codemirror_mode": {
    "name": "ipython",
    "version": 2
   },
   "file_extension": ".py",
   "mimetype": "text/x-python",
   "name": "python",
   "nbconvert_exporter": "python",
   "pygments_lexer": "ipython2",
   "version": "2.7.6"
  }
 },
 "nbformat": 4,
 "nbformat_minor": 0
}